{
 "cells": [
  {
   "cell_type": "code",
   "execution_count": 1,
   "metadata": {},
   "outputs": [],
   "source": [
    "from xgboost import XGBClassifier\n",
    "from sklearn.model_selection import train_test_split\n",
    "from sklearn.metrics import accuracy_score\n",
    "import numpy as np\n",
    "import pandas as pd\n",
    "\n",
    "\n",
    "train = pd.read_csv('/Users/xianglongtan/Desktop/cmps242/week6/train_clean.csv',encoding='ISO-8859-1')\n",
    "test = pd.read_csv('/Users/xianglongtan/Desktop/cmps242/week6/test_clean.csv',encoding='ISO-8859-1')"
   ]
  },
  {
   "cell_type": "markdown",
   "metadata": {},
   "source": [
    "# preprocess data"
   ]
  },
  {
   "cell_type": "code",
   "execution_count": 2,
   "metadata": {},
   "outputs": [],
   "source": [
    "# tokenization\n",
    "import nltk\n",
    "from nltk.corpus import stopwords\n",
    "from nltk.tokenize import word_tokenize\n",
    "stop_words = set(stopwords.words('english'))\n",
    "filter_tweet = [tweet for tweet in train.tweet.values]\n",
    "word_token = [word_tokenize(tweet) for tweet in filter_tweet]\n",
    "filter_words = []\n",
    "for word in word_token:\n",
    "    filter_words.append([w for w in word if not w in stop_words])\n",
    "filter_tweet = []\n",
    "for word in filter_words:\n",
    "    filter_tweet.append(' '.join(word))"
   ]
  },
  {
   "cell_type": "code",
   "execution_count": 3,
   "metadata": {},
   "outputs": [],
   "source": [
    "# process label\n",
    "train[['D','H']] = pd.get_dummies(train['handle'])"
   ]
  },
  {
   "cell_type": "code",
   "execution_count": 4,
   "metadata": {},
   "outputs": [],
   "source": [
    "test_ = [tweet for tweet in test.tweet.values]\n",
    "test_ = [word_tokenize(tweet) for tweet in test_]\n",
    "filter_test = []\n",
    "for word in test_:\n",
    "    filter_test.append([w for w in word if not w in stop_words])\n",
    "filter_tweet_test = []\n",
    "for word in filter_test:\n",
    "    filter_tweet_test.append(' '.join(word))"
   ]
  },
  {
   "cell_type": "code",
   "execution_count": null,
   "metadata": {},
   "outputs": [],
   "source": []
  },
  {
   "cell_type": "markdown",
   "metadata": {},
   "source": [
    "# tfidf transform"
   ]
  },
  {
   "cell_type": "code",
   "execution_count": 5,
   "metadata": {},
   "outputs": [],
   "source": [
    "from sklearn.feature_extraction.text import CountVectorizer\n",
    "from sklearn.feature_extraction.text import TfidfTransformer\n",
    "vectorizer = CountVectorizer()\n",
    "train_token = vectorizer.fit_transform(filter_tweet)\n",
    "transformer = TfidfTransformer(smooth_idf = True)\n",
    "tfidf_train_token = transformer.fit_transform(train_token)\n",
    "tfidf_train_token = tfidf_train_token.toarray()\n",
    "colname = vectorizer.get_feature_names()\n",
    "df_token = pd.DataFrame(data=tfidf_train_token,columns=colname)\n",
    "\n",
    "\n"
   ]
  },
  {
   "cell_type": "code",
   "execution_count": 6,
   "metadata": {},
   "outputs": [],
   "source": [
    "test_token = vectorizer.transform(filter_tweet_test)\n",
    "tfidf_test_token = transformer.transform(test_token)\n",
    "tfidf_test_token = tfidf_test_token.toarray()\n",
    "colname = vectorizer.get_feature_names()\n",
    "df_token_test = pd.DataFrame(data=tfidf_test_token,columns=colname)"
   ]
  },
  {
   "cell_type": "markdown",
   "metadata": {},
   "source": [
    "# PCA"
   ]
  },
  {
   "cell_type": "code",
   "execution_count": 7,
   "metadata": {},
   "outputs": [
    {
     "data": {
      "text/plain": [
       "0.7597461879639229"
      ]
     },
     "execution_count": 7,
     "metadata": {},
     "output_type": "execute_result"
    }
   ],
   "source": [
    "# Standardizer\n",
    "from sklearn import preprocessing\n",
    "standardScaler = preprocessing.StandardScaler(with_mean=False)\n",
    "standard_df_token = standardScaler.fit_transform(df_token)\n",
    "# PCA\n",
    "from sklearn.decomposition import PCA\n",
    "pca = PCA(n_components=2000)\n",
    "df_token_pca=pca.fit_transform(standard_df_token)\n",
    "pca.explained_variance_ratio_.sum()"
   ]
  },
  {
   "cell_type": "code",
   "execution_count": 8,
   "metadata": {},
   "outputs": [
    {
     "data": {
      "text/plain": [
       "0.7597461879639229"
      ]
     },
     "execution_count": 8,
     "metadata": {},
     "output_type": "execute_result"
    }
   ],
   "source": [
    "standard_test_token = standardScaler.transform(df_token_test)\n",
    "test_token_pca = pca.transform(standard_test_token)\n",
    "pca.explained_variance_ratio_.sum()"
   ]
  },
  {
   "cell_type": "code",
   "execution_count": 53,
   "metadata": {},
   "outputs": [
    {
     "data": {
      "text/plain": [
       "(1444, 3000)"
      ]
     },
     "execution_count": 53,
     "metadata": {},
     "output_type": "execute_result"
    }
   ],
   "source": []
  },
  {
   "cell_type": "markdown",
   "metadata": {},
   "source": [
    "# Train with KNN"
   ]
  },
  {
   "cell_type": "code",
   "execution_count": 7,
   "metadata": {},
   "outputs": [],
   "source": [
    "X = df_token_pca\n",
    "Y = \n",
    "from sklearn.neighbors import KNeighborsClassifier \n",
    "from sklearn.model_selection import train_test_split\n",
    "from sklearn.metrics import accuracy_score\n",
    "X_train,X_test,y_train,y_test = train_test_split(X,Y)\n",
    "knn = KNeighborsClassifier()\n",
    "knn.fit(X_train,y_train)\n",
    "y_pred = knn.predict(X_test)\n",
    "prediction = [round(value) for value in y_pred]\n",
    "accuracy = accuracy_score(y_test,prediction)\n",
    "\n",
    "\n"
   ]
  },
  {
   "cell_type": "code",
   "execution_count": 8,
   "metadata": {},
   "outputs": [
    {
     "name": "stdout",
     "output_type": "stream",
     "text": [
      "0.892\n"
     ]
    }
   ],
   "source": [
    "print(accuracy)"
   ]
  },
  {
   "cell_type": "markdown",
   "metadata": {},
   "source": [
    "# Cross Validation"
   ]
  },
  {
   "cell_type": "code",
   "execution_count": 11,
   "metadata": {},
   "outputs": [
    {
     "name": "stderr",
     "output_type": "stream",
     "text": [
      "/Users/xianglongtan/anaconda3/lib/python3.6/site-packages/sklearn/model_selection/_search.py:718: DeprecationWarning: The default of the `iid` parameter will change from True to False in version 0.22 and will be removed in 0.24. This will change numeric results when test-set sizes are unequal.\n",
      "  DeprecationWarning)\n"
     ]
    },
    {
     "name": "stdout",
     "output_type": "stream",
     "text": [
      "8587.638632774353\n"
     ]
    }
   ],
   "source": [
    "param_grid = [{'n_neighbors':range(5,20,1)},\n",
    "             {'weights':['uniform','distance']}]\n",
    "model = KNeighborsClassifier()\n",
    "seed=4\n",
    "import time\n",
    "from sklearn.model_selection import GridSearchCV\n",
    "from sklearn.model_selection import StratifiedKFold\n",
    "kfold = StratifiedKFold(n_splits = 10, shuffle=True,random_state = seed)\n",
    "grid_search = GridSearchCV(model, param_grid, scoring = 'accuracy', cv=kfold)\n",
    "start = time.time()\n",
    "grid_result = grid_search.fit(X,Y)\n",
    "end = time.time()\n",
    "print(end-start)"
   ]
  },
  {
   "cell_type": "code",
   "execution_count": 12,
   "metadata": {},
   "outputs": [
    {
     "name": "stdout",
     "output_type": "stream",
     "text": [
      "0.806200 (0.009703) with: {'n_neighbors': 5}\n",
      "0.807400 (0.017025) with: {'n_neighbors': 6}\n",
      "0.801400 (0.017340) with: {'n_neighbors': 7}\n",
      "0.790200 (0.025715) with: {'n_neighbors': 8}\n",
      "0.787200 (0.024170) with: {'n_neighbors': 9}\n",
      "0.767200 (0.027356) with: {'n_neighbors': 10}\n",
      "0.766000 (0.022420) with: {'n_neighbors': 11}\n",
      "0.752400 (0.025580) with: {'n_neighbors': 12}\n",
      "0.751200 (0.027852) with: {'n_neighbors': 13}\n",
      "0.740000 (0.025782) with: {'n_neighbors': 14}\n",
      "0.736600 (0.024555) with: {'n_neighbors': 15}\n",
      "0.725200 (0.024638) with: {'n_neighbors': 16}\n",
      "0.722800 (0.026580) with: {'n_neighbors': 17}\n",
      "0.707800 (0.024412) with: {'n_neighbors': 18}\n",
      "0.702600 (0.025899) with: {'n_neighbors': 19}\n",
      "0.806200 (0.009703) with: {'weights': 'uniform'}\n",
      "0.808800 (0.009962) with: {'weights': 'distance'}\n"
     ]
    }
   ],
   "source": [
    "means = grid_result.cv_results_['mean_test_score']\n",
    "stds = grid_result.cv_results_['std_test_score']\n",
    "params = grid_result.cv_results_['params']\n",
    "for mean,stdev,param in zip(means, stds, params):\n",
    "    print('%f (%f) with: %r'%(mean,stdev,param))"
   ]
  },
  {
   "cell_type": "code",
   "execution_count": 13,
   "metadata": {},
   "outputs": [
    {
     "name": "stdout",
     "output_type": "stream",
     "text": [
      "best score:  0.8088 \n",
      "best param: {'weights': 'distance'}\n"
     ]
    }
   ],
   "source": [
    "print('best score: ',grid_search.best_score_,'\\nbest param:',grid_result.best_params_)"
   ]
  },
  {
   "cell_type": "markdown",
   "metadata": {},
   "source": [
    "# predict testset"
   ]
  },
  {
   "cell_type": "code",
   "execution_count": 9,
   "metadata": {},
   "outputs": [
    {
     "data": {
      "text/plain": [
       "(5000, 2000)"
      ]
     },
     "execution_count": 9,
     "metadata": {},
     "output_type": "execute_result"
    }
   ],
   "source": [
    "X_test = test_token_pca# pca\n",
    "#X_test = df_token_test# non pca\n",
    "X_test.shape\n",
    "#X = df_token# non pca\n",
    "X = df_token_pca# pca\n",
    "Y = train.H\n",
    "X.shape"
   ]
  },
  {
   "cell_type": "code",
   "execution_count": 13,
   "metadata": {},
   "outputs": [],
   "source": [
    "from sklearn.neighbors import KNeighborsClassifier \n",
    "knn = KNeighborsClassifier(weights='distance')\n",
    "model = knn.fit(X,Y)\n",
    "result = model.predict_proba(X_test)\n"
   ]
  },
  {
   "cell_type": "code",
   "execution_count": 14,
   "metadata": {},
   "outputs": [
    {
     "data": {
      "text/plain": [
       "array([[0.8083026 , 0.1916974 ],\n",
       "       [0.80153077, 0.19846923],\n",
       "       [0.19704665, 0.80295335],\n",
       "       ...,\n",
       "       [0.3994271 , 0.6005729 ],\n",
       "       [1.        , 0.        ],\n",
       "       [0.15225916, 0.84774084]])"
      ]
     },
     "execution_count": 14,
     "metadata": {},
     "output_type": "execute_result"
    }
   ],
   "source": [
    "result"
   ]
  },
  {
   "cell_type": "code",
   "execution_count": 11,
   "metadata": {},
   "outputs": [],
   "source": [
    "test_pred = pd.DataFrame(data=result,columns=['realDonaldTrump'])\n"
   ]
  },
  {
   "cell_type": "code",
   "execution_count": 12,
   "metadata": {},
   "outputs": [],
   "source": [
    "test_pred['HillaryClinton'] = 1- test_pred['realDonaldTrump']"
   ]
  },
  {
   "cell_type": "code",
   "execution_count": 13,
   "metadata": {},
   "outputs": [],
   "source": [
    "test_pred.index.name = 'id'\n",
    "test_pred.to_csv('HW5_KNN.csv')"
   ]
  },
  {
   "cell_type": "code",
   "execution_count": 15,
   "metadata": {},
   "outputs": [],
   "source": [
    "result_train = model.predict_proba(X)"
   ]
  },
  {
   "cell_type": "code",
   "execution_count": 15,
   "metadata": {},
   "outputs": [],
   "source": [
    "train['predict'] = result_train"
   ]
  },
  {
   "cell_type": "code",
   "execution_count": 16,
   "metadata": {},
   "outputs": [
    {
     "name": "stdout",
     "output_type": "stream",
     "text": [
      "[[0. 1.]\n",
      " [0. 1.]\n",
      " [1. 0.]\n",
      " [1. 0.]\n",
      " [0. 1.]]\n"
     ]
    },
    {
     "data": {
      "text/html": [
       "<div>\n",
       "<style scoped>\n",
       "    .dataframe tbody tr th:only-of-type {\n",
       "        vertical-align: middle;\n",
       "    }\n",
       "\n",
       "    .dataframe tbody tr th {\n",
       "        vertical-align: top;\n",
       "    }\n",
       "\n",
       "    .dataframe thead th {\n",
       "        text-align: right;\n",
       "    }\n",
       "</style>\n",
       "<table border=\"1\" class=\"dataframe\">\n",
       "  <thead>\n",
       "    <tr style=\"text-align: right;\">\n",
       "      <th></th>\n",
       "      <th>handle</th>\n",
       "      <th>tweet</th>\n",
       "      <th>D</th>\n",
       "      <th>H</th>\n",
       "    </tr>\n",
       "  </thead>\n",
       "  <tbody>\n",
       "    <tr>\n",
       "      <th>0</th>\n",
       "      <td>realDonaldTrump</td>\n",
       "      <td>In Tampa, Florida- thank you to all of our out...</td>\n",
       "      <td>0</td>\n",
       "      <td>1</td>\n",
       "    </tr>\n",
       "    <tr>\n",
       "      <th>1</th>\n",
       "      <td>realDonaldTrump</td>\n",
       "      <td>Poll: &lt;mention&gt; realDonaldTrump vs. &lt;mention&gt; ...</td>\n",
       "      <td>0</td>\n",
       "      <td>1</td>\n",
       "    </tr>\n",
       "    <tr>\n",
       "      <th>2</th>\n",
       "      <td>HillaryClinton</td>\n",
       "      <td>Obama on whether Trump could be trusted with U...</td>\n",
       "      <td>1</td>\n",
       "      <td>0</td>\n",
       "    </tr>\n",
       "    <tr>\n",
       "      <th>3</th>\n",
       "      <td>HillaryClinton</td>\n",
       "      <td>\"Hillary Clinton has never quit on anything in...</td>\n",
       "      <td>1</td>\n",
       "      <td>0</td>\n",
       "    </tr>\n",
       "    <tr>\n",
       "      <th>4</th>\n",
       "      <td>realDonaldTrump</td>\n",
       "      <td>I LOVE NEW YORK! &lt;hashtag&gt; NewYorkValues  &lt;url&gt;</td>\n",
       "      <td>0</td>\n",
       "      <td>1</td>\n",
       "    </tr>\n",
       "  </tbody>\n",
       "</table>\n",
       "</div>"
      ],
      "text/plain": [
       "            handle                                              tweet  D  H\n",
       "0  realDonaldTrump  In Tampa, Florida- thank you to all of our out...  0  1\n",
       "1  realDonaldTrump  Poll: <mention> realDonaldTrump vs. <mention> ...  0  1\n",
       "2   HillaryClinton  Obama on whether Trump could be trusted with U...  1  0\n",
       "3   HillaryClinton  \"Hillary Clinton has never quit on anything in...  1  0\n",
       "4  realDonaldTrump    I LOVE NEW YORK! <hashtag> NewYorkValues  <url>  0  1"
      ]
     },
     "execution_count": 16,
     "metadata": {},
     "output_type": "execute_result"
    }
   ],
   "source": [
    "print(result_train[0:5,:])\n",
    "train.head()"
   ]
  },
  {
   "cell_type": "code",
   "execution_count": 17,
   "metadata": {},
   "outputs": [
    {
     "data": {
      "text/plain": [
       "0.9998"
      ]
     },
     "execution_count": 17,
     "metadata": {},
     "output_type": "execute_result"
    }
   ],
   "source": [
    "from sklearn.metrics import accuracy_score\n",
    "accuracy_score(result_train, train.H)"
   ]
  },
  {
   "cell_type": "code",
   "execution_count": 18,
   "metadata": {},
   "outputs": [],
   "source": [
    "result2 = model.predict_proba(X_test)\n",
    "test_pred2 = pd.DataFrame(data=result2,columns=['HillaryClinton','realDonaldTrump'])\n",
    "#test_pred2['HillaryClinton'] = 1- test_pred2['realDonaldTrump']\n",
    "test_pred2.index.name = 'id'\n",
    "test_pred2.to_csv('HW5_KNN2.csv')"
   ]
  },
  {
   "cell_type": "code",
   "execution_count": null,
   "metadata": {},
   "outputs": [],
   "source": []
  }
 ],
 "metadata": {
  "kernelspec": {
   "display_name": "Python [default]",
   "language": "python",
   "name": "python3"
  },
  "language_info": {
   "codemirror_mode": {
    "name": "ipython",
    "version": 3
   },
   "file_extension": ".py",
   "mimetype": "text/x-python",
   "name": "python",
   "nbconvert_exporter": "python",
   "pygments_lexer": "ipython3",
   "version": "3.6.5"
  }
 },
 "nbformat": 4,
 "nbformat_minor": 2
}
